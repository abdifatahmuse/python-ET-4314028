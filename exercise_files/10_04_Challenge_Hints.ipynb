{
 "cells": [
  {
   "cell_type": "markdown",
   "id": "b8bb2983",
   "metadata": {},
   "source": [
    "## ASCII Art Compression\n"
   ]
  },
  {
   "cell_type": "markdown",
   "id": "a354bdd4",
   "metadata": {},
   "source": [
    "**HINT 1:** Doing something like this will technically meet the requirements of this challenge:"
   ]
  },
  {
   "cell_type": "code",
   "execution_count": 6,
   "id": "312efa3a",
   "metadata": {},
   "outputs": [],
   "source": [
    "json.dumps(encodeString(text))"
   ]
  },
  {
   "cell_type": "markdown",
   "id": "df78ab6f",
   "metadata": {},
   "source": [
    "However, I hope you can find a more efficient compression algorithm than that!"
   ]
  },
  {
   "cell_type": "markdown",
   "id": "8ae1d0ad",
   "metadata": {},
   "source": [
    "**HINT 2:** Writing a list of tuples, there are a lot of instances of \"),(\" and lots of extra quotes and things, which is a lot of characters to devote to where perhaps a single comma would suffice..."
   ]
  },
  {
   "cell_type": "markdown",
   "id": "a13f0f7b",
   "metadata": {},
   "source": [
    "**HINT 3:** If you're looking for a longer challenge, you can look into writing bytes to a file. This is absolutely not necessary, however!"
   ]
  },
  {
   "cell_type": "code",
   "execution_count": 1,
   "id": "0ec1174a",
   "metadata": {},
   "outputs": [],
   "source": [
    "import os\n",
    "\n",
    "def encodeString(stringVal):\n",
    "    encodedList = []\n",
    "    prevChar = None\n",
    "    count = 0\n",
    "    for char in stringVal:\n",
    "        if prevChar != char and prevChar is not None:\n",
    "            encodedList.append((prevChar, count))\n",
    "            count = 0\n",
    "        prevChar = char\n",
    "        count = count + 1\n",
    "    encodedList.append((prevChar, count))\n",
    "    return encodedList\n",
    "\n",
    "def decodeString(encodedList):\n",
    "    decodedStr = ''\n",
    "    for item in encodedList:\n",
    "        decodedStr = decodedStr + item[0] * item[1]\n",
    "    return decodedStr"
   ]
  },
  {
   "cell_type": "code",
   "execution_count": 9,
   "id": "d4bb1637",
   "metadata": {},
   "outputs": [],
   "source": [
    "\n",
    "def encodeFile(filename, newFilename):\n",
    "    with open(filename) as f:\n",
    "        data = f.read()\n",
    "    return decodeString()\n",
    "\n",
    "def decodeFile(filename):\n",
    "    # Your code here!\n",
    "    pass\n",
    "\n"
   ]
  },
  {
   "cell_type": "code",
   "execution_count": 2,
   "id": "2740024f",
   "metadata": {},
   "outputs": [
    {
     "ename": "FileNotFoundError",
     "evalue": "[Errno 2] No such file or directory: '10_04_challenge_art.txt'",
     "output_type": "error",
     "traceback": [
      "\u001b[0;31m---------------------------------------------------------------------------\u001b[0m",
      "\u001b[0;31mFileNotFoundError\u001b[0m                         Traceback (most recent call last)",
      "Cell \u001b[0;32mIn[2], line 1\u001b[0m\n\u001b[0;32m----> 1\u001b[0m \u001b[38;5;28mprint\u001b[39m(\u001b[38;5;124mf\u001b[39m\u001b[38;5;124m'\u001b[39m\u001b[38;5;124mOriginal file size: \u001b[39m\u001b[38;5;132;01m{\u001b[39;00m\u001b[43mos\u001b[49m\u001b[38;5;241;43m.\u001b[39;49m\u001b[43mpath\u001b[49m\u001b[38;5;241;43m.\u001b[39;49m\u001b[43mgetsize\u001b[49m\u001b[43m(\u001b[49m\u001b[38;5;124;43m\"\u001b[39;49m\u001b[38;5;124;43m10_04_challenge_art.txt\u001b[39;49m\u001b[38;5;124;43m\"\u001b[39;49m\u001b[43m)\u001b[49m\u001b[38;5;132;01m}\u001b[39;00m\u001b[38;5;124m'\u001b[39m)\n\u001b[1;32m      3\u001b[0m encodeFile(\u001b[38;5;124m'\u001b[39m\u001b[38;5;124m10_04_challenge_art.txt\u001b[39m\u001b[38;5;124m'\u001b[39m, \u001b[38;5;124m'\u001b[39m\u001b[38;5;124m10_04_challenge_art_encoded.txt\u001b[39m\u001b[38;5;124m'\u001b[39m)\n\u001b[1;32m      5\u001b[0m \u001b[38;5;28mprint\u001b[39m(\u001b[38;5;124mf\u001b[39m\u001b[38;5;124m'\u001b[39m\u001b[38;5;124mNew file size: \u001b[39m\u001b[38;5;132;01m{\u001b[39;00mos\u001b[38;5;241m.\u001b[39mpath\u001b[38;5;241m.\u001b[39mgetsize(\u001b[38;5;124m\"\u001b[39m\u001b[38;5;124m10_04_challenge_art_encoded.txt\u001b[39m\u001b[38;5;124m\"\u001b[39m)\u001b[38;5;132;01m}\u001b[39;00m\u001b[38;5;124m'\u001b[39m)\n",
      "File \u001b[0;32m<frozen genericpath>:62\u001b[0m, in \u001b[0;36mgetsize\u001b[0;34m(filename)\u001b[0m\n",
      "\u001b[0;31mFileNotFoundError\u001b[0m: [Errno 2] No such file or directory: '10_04_challenge_art.txt'"
     ]
    }
   ],
   "source": [
    "print(f'Original file size: {os.path.getsize(\"10_04_challenge_art.txt\")}')\n",
    "\n",
    "encodeFile('10_04_challenge_art.txt', '10_04_challenge_art_encoded.txt')\n",
    "\n",
    "print(f'New file size: {os.path.getsize(\"10_04_challenge_art_encoded.txt\")}')\n",
    "\n",
    "\n",
    "\n",
    "\n"
   ]
  },
  {
   "cell_type": "code",
   "execution_count": 11,
   "id": "985e9278",
   "metadata": {},
   "outputs": [],
   "source": [
    "decodeFile('10_04_challenge_art_encoded.txt')"
   ]
  },
  {
   "cell_type": "code",
   "execution_count": null,
   "id": "9fe8cf03",
   "metadata": {},
   "outputs": [],
   "source": []
  }
 ],
 "metadata": {
  "kernelspec": {
   "display_name": "Python 3 (ipykernel)",
   "language": "python",
   "name": "python3"
  },
  "language_info": {
   "codemirror_mode": {
    "name": "ipython",
    "version": 3
   },
   "file_extension": ".py",
   "mimetype": "text/x-python",
   "name": "python",
   "nbconvert_exporter": "python",
   "pygments_lexer": "ipython3",
   "version": "3.12.5"
  },
  "vscode": {
   "interpreter": {
    "hash": "949777d72b0d2535278d3dc13498b2535136f6dfe0678499012e853ee9abcab1"
   }
  }
 },
 "nbformat": 4,
 "nbformat_minor": 5
}
