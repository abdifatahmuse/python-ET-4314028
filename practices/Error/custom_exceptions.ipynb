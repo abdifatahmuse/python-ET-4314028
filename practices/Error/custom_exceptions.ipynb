{
 "cells": [
  {
   "cell_type": "markdown",
   "metadata": {},
   "source": [
    "Custom Exceptions"
   ]
  },
  {
   "cell_type": "code",
   "execution_count": 4,
   "metadata": {},
   "outputs": [
    {
     "ename": "CustomException",
     "evalue": "This is a custom exception",
     "output_type": "error",
     "traceback": [
      "\u001b[0;31m---------------------------------------------------------------------------\u001b[0m",
      "\u001b[0;31mCustomException\u001b[0m                           Traceback (most recent call last)",
      "Cell \u001b[0;32mIn[4], line 7\u001b[0m\n\u001b[1;32m      4\u001b[0m \u001b[38;5;28;01mdef\u001b[39;00m \u001b[38;5;21mcauseError\u001b[39m():\n\u001b[1;32m      5\u001b[0m     \u001b[38;5;28;01mraise\u001b[39;00m CustomException(\u001b[38;5;124m\"\u001b[39m\u001b[38;5;124mThis is a custom exception\u001b[39m\u001b[38;5;124m\"\u001b[39m)\n\u001b[0;32m----> 7\u001b[0m \u001b[43mcauseError\u001b[49m\u001b[43m(\u001b[49m\u001b[43m)\u001b[49m\n",
      "Cell \u001b[0;32mIn[4], line 5\u001b[0m, in \u001b[0;36mcauseError\u001b[0;34m()\u001b[0m\n\u001b[1;32m      4\u001b[0m \u001b[38;5;28;01mdef\u001b[39;00m \u001b[38;5;21mcauseError\u001b[39m():\n\u001b[0;32m----> 5\u001b[0m     \u001b[38;5;28;01mraise\u001b[39;00m CustomException(\u001b[38;5;124m\"\u001b[39m\u001b[38;5;124mThis is a custom exception\u001b[39m\u001b[38;5;124m\"\u001b[39m)\n",
      "\u001b[0;31mCustomException\u001b[0m: This is a custom exception"
     ]
    }
   ],
   "source": [
    "class CustomException(Exception):\n",
    "    pass\n",
    "\n",
    "def causeError():\n",
    "    raise CustomException(\"This is a custom exception\")\n",
    "\n",
    "causeError()"
   ]
  },
  {
   "cell_type": "markdown",
   "metadata": {},
   "source": [
    "Adding Attributes"
   ]
  },
  {
   "cell_type": "code",
   "execution_count": 6,
   "metadata": {},
   "outputs": [
    {
     "ename": "ServerError",
     "evalue": "Status Code: 500 and message is: the server messed up!",
     "output_type": "error",
     "traceback": [
      "\u001b[0;31m---------------------------------------------------------------------------\u001b[0m",
      "\u001b[0;31mServerError\u001b[0m                               Traceback (most recent call last)",
      "Cell \u001b[0;32mIn[6], line 19\u001b[0m\n\u001b[1;32m     16\u001b[0m \u001b[38;5;28;01mdef\u001b[39;00m \u001b[38;5;21mraiseServerError\u001b[39m():\n\u001b[1;32m     17\u001b[0m     \u001b[38;5;28;01mraise\u001b[39;00m ServerError()\n\u001b[0;32m---> 19\u001b[0m \u001b[43mraiseServerError\u001b[49m\u001b[43m(\u001b[49m\u001b[43m)\u001b[49m\n",
      "Cell \u001b[0;32mIn[6], line 17\u001b[0m, in \u001b[0;36mraiseServerError\u001b[0;34m()\u001b[0m\n\u001b[1;32m     16\u001b[0m \u001b[38;5;28;01mdef\u001b[39;00m \u001b[38;5;21mraiseServerError\u001b[39m():\n\u001b[0;32m---> 17\u001b[0m     \u001b[38;5;28;01mraise\u001b[39;00m ServerError()\n",
      "\u001b[0;31mServerError\u001b[0m: Status Code: 500 and message is: the server messed up!"
     ]
    }
   ],
   "source": [
    "class HttpException(Exception):\n",
    "    statusCode = None\n",
    "    message = None\n",
    "    def __init__(self) :\n",
    "        super().__init__(f\"Status Code: {self.statusCode} and message is: {self.message}\")\n",
    "        \n",
    "        \n",
    "class NotFound(HttpException):\n",
    "    statusCode = 404\n",
    "    message = \"Resource not found\"\n",
    "    \n",
    "class ServerError(HttpException):\n",
    "    statusCode = 500\n",
    "    message = \"the server messed up!\"\n",
    "    \n",
    "def raiseServerError():\n",
    "    raise ServerError()\n",
    "\n",
    "raiseServerError()"
   ]
  },
  {
   "cell_type": "code",
   "execution_count": 72,
   "metadata": {},
   "outputs": [
    {
     "name": "stdout",
     "output_type": "stream",
     "text": [
      "(1, 2, 3) False\n",
      "6\n",
      "This should not print out\n"
     ]
    }
   ],
   "source": [
    "# Python code​​​​​​‌​‌‌‌​​‌‌​‌​‌​​​​​‌​​​​‌‌ below\n",
    "class NonIntArgumentException(Exception):\n",
    "    def __init__(self) :\n",
    "        super().__init__(\"Non integer argument provided\")\n",
    "\n",
    "def handleNonIntArguments(func):\n",
    "    def wrapper(*args):\n",
    "        print(args, isinstance(args, int))\n",
    "        \n",
    "        # if is not int raise an exception NonIntArgumentException \n",
    "        for arg in args:\n",
    "            if not isinstance(arg, int):\n",
    "                raise NonIntArgumentException() \n",
    "        \n",
    "        return func(*args)     \n",
    "    return wrapper\n",
    "\n",
    "# Passed\n",
    "\n",
    "@handleNonIntArguments\n",
    "def sum(a, b, c):\n",
    "    return a + b + c\n",
    "\n",
    "try:\n",
    "    result  = sum(1, 2, 3)\n",
    "    print(result)\n",
    "    print('This should not print out')\n",
    "except NonIntArgumentException as e:\n",
    "    print('Hooray!')\n"
   ]
  },
  {
   "cell_type": "code",
   "execution_count": null,
   "metadata": {},
   "outputs": [],
   "source": []
  }
 ],
 "metadata": {
  "kernelspec": {
   "display_name": "Python 3",
   "language": "python",
   "name": "python3"
  },
  "language_info": {
   "codemirror_mode": {
    "name": "ipython",
    "version": 3
   },
   "file_extension": ".py",
   "mimetype": "text/x-python",
   "name": "python",
   "nbconvert_exporter": "python",
   "pygments_lexer": "ipython3",
   "version": "3.11.3"
  }
 },
 "nbformat": 4,
 "nbformat_minor": 2
}
