{
 "cells": [
  {
   "cell_type": "markdown",
   "metadata": {},
   "source": [
    "Class Inheritance"
   ]
  },
  {
   "cell_type": "code",
   "execution_count": 13,
   "metadata": {},
   "outputs": [],
   "source": [
    "class Dog:\n",
    "    _legs = 4\n",
    "    def __init__(self, name):\n",
    "        self.name = name\n",
    "    \n",
    "    def speak(self):\n",
    "        print (f\"{self.name} says: Bark!\")\n",
    "        \n",
    "    def getLegs(self):\n",
    "        return self._legs\n",
    "\n",
    "# we use these parentheses e.g.(Dog), after the class name to indicate that is the class is extending the parent dog class.\n",
    "class Chihuahua(Dog):\n",
    "    def speak(self):\n",
    "        print(f\"{self.name} says: Yap Yap Yap!\")\n",
    "        \n",
    "    def wagTail(self):\n",
    "        print(\"Vigorous wagging!\")"
   ]
  },
  {
   "cell_type": "code",
   "execution_count": 16,
   "metadata": {},
   "outputs": [
    {
     "name": "stdout",
     "output_type": "stream",
     "text": [
      "Roxy says: Yap Yap Yap!\n",
      "Vigorous wagging!\n"
     ]
    }
   ],
   "source": [
    "dog = Chihuahua(\"Roxy\")\n",
    "dog.speak()\n",
    "dog.wagTail()"
   ]
  },
  {
   "cell_type": "code",
   "execution_count": 15,
   "metadata": {},
   "outputs": [
    {
     "name": "stdout",
     "output_type": "stream",
     "text": [
      "Rover says: Bark!\n"
     ]
    }
   ],
   "source": [
    "dog = Dog(\"Rover\")\n",
    "dog.speak()"
   ]
  },
  {
   "cell_type": "markdown",
   "metadata": {},
   "source": [
    "Extending built-in classes"
   ]
  },
  {
   "cell_type": "code",
   "execution_count": 18,
   "metadata": {},
   "outputs": [],
   "source": [
    "myList = list()\n",
    "myList.append(1)"
   ]
  },
  {
   "cell_type": "code",
   "execution_count": 21,
   "metadata": {},
   "outputs": [
    {
     "name": "stdout",
     "output_type": "stream",
     "text": [
      "[1, 21, 6, 9]\n"
     ]
    }
   ],
   "source": [
    "class UniqueList(list):\n",
    "    def append(self, item):\n",
    "        if item in self:\n",
    "            return\n",
    "        super().append(item)\n",
    "        \n",
    "unique = UniqueList()\n",
    "\n",
    "unique.append(1)\n",
    "unique.append(1)\n",
    "unique.append(21)\n",
    "unique.append(6)\n",
    "unique.append(9)\n",
    "\n",
    "print(unique)\n"
   ]
  },
  {
   "cell_type": "code",
   "execution_count": 22,
   "metadata": {},
   "outputs": [
    {
     "name": "stdout",
     "output_type": "stream",
     "text": [
      "Unique List!\n"
     ]
    }
   ],
   "source": [
    "class UniqueList(list):\n",
    "\n",
    "    def __init__(self):\n",
    "        super().__init__()\n",
    "        self.someProperty = \"Unique List!\"\n",
    "\n",
    "    def append(self, item):\n",
    "        if item in self:\n",
    "            return\n",
    "        super().append(item)\n",
    "\n",
    "unique = UniqueList()\n",
    "\n",
    "unique.append(1)\n",
    "unique.append(1)\n",
    "unique.append(21)\n",
    "unique.append(6)\n",
    "unique.append(9)\n",
    "\n",
    "print(unique.someProperty)\n"
   ]
  },
  {
   "cell_type": "code",
   "execution_count": 37,
   "metadata": {},
   "outputs": [
    {
     "name": "stdout",
     "output_type": "stream",
     "text": [
      "    #\n",
      "   ###\n",
      "  #####\n",
      " #######\n",
      "#########\n"
     ]
    }
   ],
   "source": [
    "# Python code​​​​​​‌​‌‌‌​​‌​‌‌​‌​‌‌‌‌​‌​​​‌‌ below\n",
    "class Shape:\n",
    "\twidth = 5\n",
    "\theight = 5\n",
    "\tprintChar = '#'\n",
    "\n",
    "\tdef printRow(self, i):\n",
    "\t\traise NotImplementedError(\"Will be implemented by children extending this class\")\n",
    "\n",
    "\tdef print(self):\n",
    "\t\tfor i in range(self.height):\n",
    "\t\t\tself.printRow(i)\n",
    "\n",
    "\n",
    "class Square(Shape):\n",
    "\tdef printRow(self, i):\n",
    "\t\tprint(self.printChar * self.width)\n",
    "\n",
    "class Triangle(Shape):\n",
    "    height = 5\n",
    "    width = 2 * height\n",
    "    \n",
    "    def printRow(self, i):\n",
    "        twidth = i * 2 + 1\n",
    "        \n",
    "        padding = int((self.width - twidth) / 2)\n",
    "        print(\" \"*padding + self.printChar * twidth)\n",
    "        \n",
    "t = Triangle()\n",
    "\n",
    "t.print()"
   ]
  },
  {
   "cell_type": "code",
   "execution_count": null,
   "metadata": {},
   "outputs": [],
   "source": []
  }
 ],
 "metadata": {
  "kernelspec": {
   "display_name": "Python 3",
   "language": "python",
   "name": "python3"
  },
  "language_info": {
   "codemirror_mode": {
    "name": "ipython",
    "version": 3
   },
   "file_extension": ".py",
   "mimetype": "text/x-python",
   "name": "python",
   "nbconvert_exporter": "python",
   "pygments_lexer": "ipython3",
   "version": "3.11.3"
  }
 },
 "nbformat": 4,
 "nbformat_minor": 2
}
