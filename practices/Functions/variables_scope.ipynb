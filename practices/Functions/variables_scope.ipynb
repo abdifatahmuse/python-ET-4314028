{
 "cells": [
  {
   "cell_type": "markdown",
   "metadata": {},
   "source": [
    "Functions scope"
   ]
  },
  {
   "cell_type": "code",
   "execution_count": 2,
   "metadata": {},
   "outputs": [
    {
     "name": "stdout",
     "output_type": "stream",
     "text": [
      "(2, 3, 'multiply')\n",
      "{}\n"
     ]
    }
   ],
   "source": [
    "def performOperation(*args, **kwargs):\n",
    "    print(args) \n",
    "    print(kwargs) \n",
    "\n",
    "performOperation(2, 3, \"multiply\")"
   ]
  },
  {
   "cell_type": "markdown",
   "metadata": {},
   "source": [
    "Locals()"
   ]
  },
  {
   "cell_type": "code",
   "execution_count": 4,
   "metadata": {},
   "outputs": [
    {
     "name": "stdout",
     "output_type": "stream",
     "text": [
      "{'num1': 3, 'num2': 4, 'operation': 'multiple'}\n"
     ]
    }
   ],
   "source": [
    "def performOperation(num1, num2, operation = \"sum\"):\n",
    "    print(locals())\n",
    "    \n",
    "performOperation(3, 4, \"multiple\")"
   ]
  },
  {
   "cell_type": "markdown",
   "metadata": {},
   "source": [
    "globals()"
   ]
  },
  {
   "cell_type": "code",
   "execution_count": 6,
   "metadata": {},
   "outputs": [
    {
     "data": {
      "text/plain": [
       "{'__name__': '__main__',\n",
       " '__doc__': 'Automatically created module for IPython interactive environment',\n",
       " '__package__': None,\n",
       " '__loader__': None,\n",
       " '__spec__': None,\n",
       " '__builtin__': <module 'builtins' (built-in)>,\n",
       " '__builtins__': <module 'builtins' (built-in)>,\n",
       " '_ih': ['',\n",
       "  'def performOperation(*args, **kwargs):\\n    print(args) \\n    print(kwargs) \\n\\nperformOperation(2, 3, \"multiply\")',\n",
       "  'def performOperation(*args, **kwargs):\\n    print(args) \\n    print(kwargs) \\n\\nperformOperation(2, 3, \"multiply\")',\n",
       "  'def performOperation(num1, num2, operation = \"sum\"):\\n    print(locals())',\n",
       "  'def performOperation(num1, num2, operation = \"sum\"):\\n    print(locals())\\n    \\nperformOperation(3, 4, \"multiple\")',\n",
       "  'globals()',\n",
       "  '# get all global variables,\\nglobals()'],\n",
       " '_oh': {5: {...}},\n",
       " '_dh': [PosixPath('/Users/apps/Documents/PycharmProjects/PythonProjects/python-ET-4314028/practices/Functions')],\n",
       " 'In': ['',\n",
       "  'def performOperation(*args, **kwargs):\\n    print(args) \\n    print(kwargs) \\n\\nperformOperation(2, 3, \"multiply\")',\n",
       "  'def performOperation(*args, **kwargs):\\n    print(args) \\n    print(kwargs) \\n\\nperformOperation(2, 3, \"multiply\")',\n",
       "  'def performOperation(num1, num2, operation = \"sum\"):\\n    print(locals())',\n",
       "  'def performOperation(num1, num2, operation = \"sum\"):\\n    print(locals())\\n    \\nperformOperation(3, 4, \"multiple\")',\n",
       "  'globals()',\n",
       "  '# get all global variables,\\nglobals()'],\n",
       " 'Out': {5: {...}},\n",
       " 'get_ipython': <bound method InteractiveShell.get_ipython of <ipykernel.zmqshell.ZMQInteractiveShell object at 0x13908cc50>>,\n",
       " 'exit': <IPython.core.autocall.ZMQExitAutocall at 0x138b6d7d0>,\n",
       " 'quit': <IPython.core.autocall.ZMQExitAutocall at 0x138b6d7d0>,\n",
       " 'open': <function io.open(file, mode='r', buffering=-1, encoding=None, errors=None, newline=None, closefd=True, opener=None)>,\n",
       " '_': {...},\n",
       " '__': '',\n",
       " '___': '',\n",
       " '__vsc_ipynb_file__': '/Users/apps/Documents/PycharmProjects/PythonProjects/python-ET-4314028/practices/Functions/variables_scope.ipynb',\n",
       " '_i': 'globals()',\n",
       " '_ii': 'def performOperation(num1, num2, operation = \"sum\"):\\n    print(locals())\\n    \\nperformOperation(3, 4, \"multiple\")',\n",
       " '_iii': 'def performOperation(num1, num2, operation = \"sum\"):\\n    print(locals())',\n",
       " '_i1': 'def performOperation(*args, **kwargs):\\n    print(args) \\n    print(kwargs) \\n\\nperformOperation(2, 3, \"multiply\")',\n",
       " 'performOperation': <function __main__.performOperation(num1, num2, operation='sum')>,\n",
       " '_i2': 'def performOperation(*args, **kwargs):\\n    print(args) \\n    print(kwargs) \\n\\nperformOperation(2, 3, \"multiply\")',\n",
       " '_i3': 'def performOperation(num1, num2, operation = \"sum\"):\\n    print(locals())',\n",
       " '_i4': 'def performOperation(num1, num2, operation = \"sum\"):\\n    print(locals())\\n    \\nperformOperation(3, 4, \"multiple\")',\n",
       " '_i5': 'globals()',\n",
       " '_5': {...},\n",
       " '_i6': '# get all global variables,\\nglobals()'}"
      ]
     },
     "execution_count": 6,
     "metadata": {},
     "output_type": "execute_result"
    }
   ],
   "source": [
    "# get all global variables,\n",
    "globals()"
   ]
  },
  {
   "cell_type": "markdown",
   "metadata": {},
   "source": [
    "Global and Local Scope"
   ]
  },
  {
   "cell_type": "code",
   "execution_count": 9,
   "metadata": {},
   "outputs": [
    {
     "name": "stdout",
     "output_type": "stream",
     "text": [
      "{'varA': 3, 'varB': 4}\n",
      "{'varC': 5, 'varD': 6}\n"
     ]
    }
   ],
   "source": [
    "def functionsl(varA, varB):\n",
    "    print(locals())\n",
    "\n",
    "def function2(varC, varD):\n",
    "    print(locals())\n",
    "    \n",
    "functionsl(3, 4)\n",
    "function2(5, 6)"
   ]
  },
  {
   "cell_type": "code",
   "execution_count": 13,
   "metadata": {},
   "outputs": [
    {
     "name": "stdout",
     "output_type": "stream",
     "text": [
      "5\n",
      "inner_function local scope: {'varA': 53, 'varB': 46}\n"
     ]
    }
   ],
   "source": [
    "def function1(varA, varB):\n",
    "    message = \"Some lcoal data\"\n",
    "    print(varA)\n",
    "    def inner_function(varA, varB):\n",
    "        print(f'inner_function local scope: {locals()}')\n",
    "    \n",
    "    inner_function(53, 46)\n",
    "\n",
    "function1(5, 6)"
   ]
  },
  {
   "cell_type": "code",
   "execution_count": null,
   "metadata": {},
   "outputs": [],
   "source": [
    "def function1(varA, varB):\n",
    "    message = \"Some lcoal data\"\n",
    "    print(varA)\n",
    "    def inner_function(varA, varB):\n",
    "        print(f'inner_function local scope: {locals()}')\n",
    "    \n",
    "    inner_function(53, 46)\n",
    "\n",
    "function1(5, 6)"
   ]
  }
 ],
 "metadata": {
  "kernelspec": {
   "display_name": "Python 3",
   "language": "python",
   "name": "python3"
  },
  "language_info": {
   "codemirror_mode": {
    "name": "ipython",
    "version": 3
   },
   "file_extension": ".py",
   "mimetype": "text/x-python",
   "name": "python",
   "nbconvert_exporter": "python",
   "pygments_lexer": "ipython3",
   "version": "3.11.3"
  }
 },
 "nbformat": 4,
 "nbformat_minor": 2
}
