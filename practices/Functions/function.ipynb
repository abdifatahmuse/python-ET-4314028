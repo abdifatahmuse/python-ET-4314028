{
 "cells": [
  {
   "cell_type": "code",
   "execution_count": 1,
   "metadata": {},
   "outputs": [],
   "source": [
    "import math"
   ]
  },
  {
   "cell_type": "code",
   "execution_count": 1,
   "metadata": {},
   "outputs": [
    {
     "data": {
      "text/plain": [
       "5"
      ]
     },
     "execution_count": 1,
     "metadata": {},
     "output_type": "execute_result"
    }
   ],
   "source": [
    "def performOperation(num1, num2, operation):\n",
    "    if operation == \"sum\":\n",
    "        return num1 + num2\n",
    "    if operation == \"multiply\":\n",
    "        return num1 * num2\n",
    "\n",
    "performOperation(2, 3, \"sum\")"
   ]
  },
  {
   "cell_type": "code",
   "execution_count": 2,
   "metadata": {},
   "outputs": [
    {
     "data": {
      "text/plain": [
       "5"
      ]
     },
     "execution_count": 2,
     "metadata": {},
     "output_type": "execute_result"
    }
   ],
   "source": [
    "def performOperation(num1, num2, operation = \"sum\"):\n",
    "    if operation == \"sum\":\n",
    "        return num1 + num2\n",
    "    if operation == \"multiply\":\n",
    "        return num1 * num2\n",
    "\n",
    "performOperation(2, 3)"
   ]
  },
  {
   "cell_type": "code",
   "execution_count": 3,
   "metadata": {},
   "outputs": [
    {
     "data": {
      "text/plain": [
       "6"
      ]
     },
     "execution_count": 3,
     "metadata": {},
     "output_type": "execute_result"
    }
   ],
   "source": [
    "def performOperation(num1, num2, operation = \"sum\", message = \"default message\"):\n",
    "    print(message)\n",
    "    if operation == \"sum\":\n",
    "        return num1 + num2\n",
    "    if operation == \"multiply\":\n",
    "        return num1 * num2\n",
    "\n",
    "performOperation(2, 3, \"multiply\")"
   ]
  },
  {
   "cell_type": "code",
   "execution_count": 7,
   "metadata": {},
   "outputs": [
    {
     "name": "stdout",
     "output_type": "stream",
     "text": [
      "(2, 3, 'multiply', 'hello')\n"
     ]
    }
   ],
   "source": [
    "\n",
    "# pass any of the arguments, the arguments will be return a tuple\n",
    "def performOperation(*args):\n",
    "    print(args)\n",
    "\n",
    "performOperation(2, 3, \"multiply\", \"hello\")"
   ]
  },
  {
   "cell_type": "code",
   "execution_count": 11,
   "metadata": {},
   "outputs": [
    {
     "name": "stdout",
     "output_type": "stream",
     "text": [
      "(2, 3, 'multiply', 'hello')\n",
      "{'Name': 'Mustafe'}\n"
     ]
    }
   ],
   "source": [
    "# pass any of the arguments, the arguments will be return a tuple\n",
    "# to handel the keyword arguments, we need a do this differently, we need to use **kwargs, which will return a dictionary\n",
    "def performOperation(*args, **kwargs):\n",
    "    print(args)\n",
    "    print(kwargs)\n",
    "\n",
    "performOperation(2, 3, \"multiply\", \"hello\", Name = \"Mustafe\")"
   ]
  },
  {
   "cell_type": "code",
   "execution_count": 7,
   "metadata": {},
   "outputs": [
    {
     "data": {
      "text/plain": [
       "1440"
      ]
     },
     "execution_count": 7,
     "metadata": {},
     "output_type": "execute_result"
    }
   ],
   "source": [
    "def performOperation(*args, operation = \"sum\"):\n",
    "    if operation == \"sum\":\n",
    "        return sum(args)\n",
    "    if operation == \"multiply\":\n",
    "        return math.prod(args)\n",
    "\n",
    "performOperation(2,5,6,8,3, operation=\"multiply\")"
   ]
  },
  {
   "cell_type": "code",
   "execution_count": null,
   "metadata": {},
   "outputs": [],
   "source": []
  }
 ],
 "metadata": {
  "kernelspec": {
   "display_name": "Python 3",
   "language": "python",
   "name": "python3"
  },
  "language_info": {
   "codemirror_mode": {
    "name": "ipython",
    "version": 3
   },
   "file_extension": ".py",
   "mimetype": "text/x-python",
   "name": "python",
   "nbconvert_exporter": "python",
   "pygments_lexer": "ipython3",
   "version": "3.11.3"
  }
 },
 "nbformat": 4,
 "nbformat_minor": 2
}
