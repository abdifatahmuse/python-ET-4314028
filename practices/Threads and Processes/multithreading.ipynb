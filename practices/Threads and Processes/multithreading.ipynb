{
 "cells": [
  {
   "cell_type": "code",
   "execution_count": 1,
   "metadata": {},
   "outputs": [],
   "source": [
    "import threading\n",
    "import time"
   ]
  },
  {
   "cell_type": "markdown",
   "metadata": {},
   "source": [
    "Threads"
   ]
  },
  {
   "cell_type": "code",
   "execution_count": 2,
   "metadata": {},
   "outputs": [
    {
     "data": {
      "text/plain": [
       "[0, 1, 4, 9, 16]"
      ]
     },
     "execution_count": 2,
     "metadata": {},
     "output_type": "execute_result"
    }
   ],
   "source": [
    "def longSquare(num):\n",
    "    time.sleep(1)\n",
    "    return num **2\n",
    "\n",
    "[longSquare(v) for v in range(0, 5)]"
   ]
  },
  {
   "cell_type": "code",
   "execution_count": 4,
   "metadata": {},
   "outputs": [],
   "source": [
    "t1 = threading.Thread(target=longSquare, args=(1,))\n",
    "t2 = threading.Thread(target=longSquare, args=(2,))\n",
    "\n",
    "t1.start()\n",
    "t2.start()\n",
    "\n",
    "t1.join()\n",
    "t2.join()"
   ]
  },
  {
   "cell_type": "code",
   "execution_count": 6,
   "metadata": {},
   "outputs": [
    {
     "name": "stdout",
     "output_type": "stream",
     "text": [
      "{1: 1, 2: 4}\n"
     ]
    }
   ],
   "source": [
    "def longSquare(num, results):\n",
    "    time.sleep(1)\n",
    "    results[num] = num **2\n",
    "\n",
    "results = {}\n",
    "\n",
    "t1 = threading.Thread(target=longSquare, args=(1, results))\n",
    "t2 = threading.Thread(target=longSquare, args=(2, results))\n",
    "\n",
    "t1.start()\n",
    "t2.start()\n",
    "\n",
    "t1.join()\n",
    "t2.join()\n",
    "\n",
    "print(results)"
   ]
  },
  {
   "cell_type": "code",
   "execution_count": 8,
   "metadata": {},
   "outputs": [
    {
     "name": "stdout",
     "output_type": "stream",
     "text": [
      "{1: 1, 2: 4, 9: 81, 14: 196, 12: 144, 18: 324, 11: 121, 13: 169, 15: 225, 6: 36, 24: 576, 17: 289, 36: 1296, 7: 49, 0: 0, 4: 16, 3: 9, 10: 100, 42: 1764, 5: 25, 25: 625, 31: 961, 30: 900, 34: 1156, 51: 2601, 37: 1369, 61: 3721, 8: 64, 22: 484, 48: 2304, 67: 4489, 72: 5184, 66: 4356, 33: 1089, 46: 2116, 16: 256, 29: 841, 43: 1849, 63: 3969, 40: 1600, 68: 4624, 50: 2500, 49: 2401, 55: 3025, 39: 1521, 53: 2809, 32: 1024, 52: 2704, 57: 3249, 64: 4096, 21: 441, 65: 4225, 76: 5776, 75: 5625, 71: 5041, 27: 729, 47: 2209, 74: 5476, 54: 2916, 44: 1936, 62: 3844, 26: 676, 19: 361, 97: 9409, 90: 8100, 96: 9216, 69: 4761, 20: 400, 81: 6561, 45: 2025, 28: 784, 35: 1225, 38: 1444, 58: 3364, 73: 5329, 79: 6241, 23: 529, 78: 6084, 95: 9025, 41: 1681, 70: 4900, 87: 7569, 59: 3481, 56: 3136, 60: 3600, 77: 5929, 84: 7056, 80: 6400, 85: 7225, 83: 6889, 86: 7396, 89: 7921, 94: 8836, 99: 9801, 98: 9604, 92: 8464, 91: 8281, 93: 8649, 82: 6724, 88: 7744}\n"
     ]
    }
   ],
   "source": [
    "def longSquare(num, results):\n",
    "    time.sleep(1)\n",
    "    results[num] = num **2\n",
    "\n",
    "results = {}\n",
    "\n",
    "threads = [threading.Thread(target=longSquare, args=(i, results)) for i in range(0, 100)]\n",
    "[t.start() for t in threads]\n",
    "[t.join() for t in threads]\n",
    "\n",
    "print(results)"
   ]
  },
  {
   "cell_type": "code",
   "execution_count": null,
   "metadata": {},
   "outputs": [],
   "source": []
  }
 ],
 "metadata": {
  "kernelspec": {
   "display_name": "Python 3",
   "language": "python",
   "name": "python3"
  },
  "language_info": {
   "codemirror_mode": {
    "name": "ipython",
    "version": 3
   },
   "file_extension": ".py",
   "mimetype": "text/x-python",
   "name": "python",
   "nbconvert_exporter": "python",
   "pygments_lexer": "ipython3",
   "version": "3.11.3"
  }
 },
 "nbformat": 4,
 "nbformat_minor": 2
}
