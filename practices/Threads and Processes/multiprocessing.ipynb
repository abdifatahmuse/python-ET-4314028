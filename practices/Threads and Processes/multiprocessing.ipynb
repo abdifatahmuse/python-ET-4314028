{
 "cells": [
  {
   "cell_type": "code",
   "execution_count": 10,
   "metadata": {},
   "outputs": [],
   "source": [
    "from multiprocess import Process\n",
    "import time\n",
    "import threading"
   ]
  },
  {
   "cell_type": "markdown",
   "metadata": {},
   "source": [
    "Processes"
   ]
  },
  {
   "cell_type": "code",
   "execution_count": 13,
   "metadata": {},
   "outputs": [
    {
     "name": "stdout",
     "output_type": "stream",
     "text": [
      "0\n",
      "1Finished Computing!\n",
      "\n",
      "Finished Computing!\n",
      "4\n",
      "Finished Computing!9\n",
      "\n",
      "16Finished Computing!\n",
      "\n",
      "Finished Computing!\n",
      "25\n",
      "Finished Computing!\n",
      "36\n",
      "Finished Computing!49\n",
      "\n",
      "Finished Computing!\n",
      "64\n",
      "81Finished Computing!\n",
      "\n",
      "Finished Computing!\n"
     ]
    },
    {
     "data": {
      "text/plain": [
       "[None, None, None, None, None, None, None, None, None, None]"
      ]
     },
     "execution_count": 13,
     "metadata": {},
     "output_type": "execute_result"
    }
   ],
   "source": [
    "def longSquare(num, results):\n",
    "    time.sleep(1)\n",
    "    # results[num] = num **2\n",
    "    print(num**2)\n",
    "    print(\"Finished Computing!\")\n",
    "\n",
    "results = {}\n",
    "\n",
    "# p1 = Process(target=longSquare, args=(1, results))\n",
    "# p2 = Process(target=longSquare, args=(2, results))\n",
    "processes = [Process(target=longSquare, args=(n, results)) for n in range(0, 10)]\n",
    "[p.start()  for p in processes]\n",
    "[p.join() for p in processes]\n",
    "\n",
    "# p1.start()\n",
    "# p2.start()\n",
    "\n",
    "# p1.join()\n",
    "# p2.join()\n",
    "\n",
    "# print(results)"
   ]
  },
  {
   "cell_type": "code",
   "execution_count": 15,
   "metadata": {},
   "outputs": [
    {
     "name": "stdout",
     "output_type": "stream",
     "text": [
      "016\n",
      "Finished Computing!\n",
      "9\n",
      "Finished Computing!\n",
      "4\n",
      "Finished Computing!\n",
      "25\n",
      "Finished Computing!\n",
      "81\n",
      "Finished Computing!\n",
      "1\n",
      "Finished Computing!\n",
      "\n",
      "Finished Computing!\n",
      "36\n",
      "Finished Computing!\n",
      "49\n",
      "Finished Computing!\n",
      "64\n",
      "Finished Computing!\n",
      "{}\n"
     ]
    }
   ],
   "source": [
    "\n",
    "results = {}\n",
    "threads = [threading.Thread(target=longSquare, args=(i, results)) for i in range(0, 10)]\n",
    "[t.start() for t in threads]\n",
    "[t.join() for t in threads]\n",
    "\n",
    "print(results)"
   ]
  },
  {
   "cell_type": "code",
   "execution_count": null,
   "metadata": {},
   "outputs": [],
   "source": []
  }
 ],
 "metadata": {
  "kernelspec": {
   "display_name": "Python 3",
   "language": "python",
   "name": "python3"
  },
  "language_info": {
   "codemirror_mode": {
    "name": "ipython",
    "version": 3
   },
   "file_extension": ".py",
   "mimetype": "text/x-python",
   "name": "python",
   "nbconvert_exporter": "python",
   "pygments_lexer": "ipython3",
   "version": "3.12.5"
  }
 },
 "nbformat": 4,
 "nbformat_minor": 2
}
