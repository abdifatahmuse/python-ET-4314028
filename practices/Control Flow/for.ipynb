{
 "cells": [
  {
   "cell_type": "code",
   "execution_count": 1,
   "metadata": {},
   "outputs": [
    {
     "name": "stdout",
     "output_type": "stream",
     "text": [
      "1\n",
      "2\n",
      "3\n",
      "4\n",
      "5\n"
     ]
    }
   ],
   "source": [
    "myList = [1,2,3,4,5]\n",
    "for item in myList:\n",
    "    print(item)"
   ]
  },
  {
   "cell_type": "code",
   "execution_count": 6,
   "metadata": {},
   "outputs": [],
   "source": [
    "lookup = {\n",
    "    'a':['aardvark','antelope'],\n",
    "    'b': [\"bear\"],\n",
    "    'c': [\"cat\"]\n",
    "}\n",
    "\n",
    "for letter, value in lookup.items():\n",
    "    pass"
   ]
  },
  {
   "cell_type": "code",
   "execution_count": 7,
   "metadata": {},
   "outputs": [
    {
     "name": "stdout",
     "output_type": "stream",
     "text": [
      "Only one animal! ['bear']\n",
      "Only one animal! ['cat']\n"
     ]
    }
   ],
   "source": [
    "for letter, value in lookup.items():\n",
    "    if len (value) > 1:\n",
    "        continue\n",
    "    print(f'Only one animal! {value}')"
   ]
  },
  {
   "cell_type": "code",
   "execution_count": 9,
   "metadata": {},
   "outputs": [
    {
     "name": "stdout",
     "output_type": "stream",
     "text": [
      "found 2 animals: ['aardvark', 'antelope']\n"
     ]
    }
   ],
   "source": [
    "for letter, value in lookup.items():\n",
    "    if len (value) > 1:\n",
    "        print(f'found {len(value)} animals: {value}')\n",
    "        break\n",
    "    print(f'Only one animal! {value}')"
   ]
  },
  {
   "cell_type": "code",
   "execution_count": 11,
   "metadata": {},
   "outputs": [
    {
     "name": "stdout",
     "output_type": "stream",
     "text": [
      "2 is prime\n",
      "3 is prime\n",
      "6 is prime\n",
      "7 is prime\n",
      "10 is prime\n",
      "11 is prime\n",
      "14 is prime\n",
      "15 is prime\n",
      "22 is prime\n",
      "23 is prime\n",
      "30 is prime\n",
      "31 is prime\n",
      "38 is prime\n",
      "39 is prime\n",
      "46 is prime\n",
      "47 is prime\n",
      "54 is prime\n",
      "55 is prime\n",
      "62 is prime\n",
      "63 is prime\n",
      "78 is prime\n",
      "79 is prime\n",
      "94 is prime\n",
      "95 is prime\n"
     ]
    }
   ],
   "source": [
    "for number in range(2, 100):\n",
    "    for factor in range(2, int(number**0.5)+1):\n",
    "        if number & factor == 0:\n",
    "            break\n",
    "    else:\n",
    "        print(f'{number} is prime')"
   ]
  },
  {
   "cell_type": "code",
   "execution_count": 13,
   "metadata": {},
   "outputs": [
    {
     "name": "stdout",
     "output_type": "stream",
     "text": [
      "2 is prime\n",
      "3 is prime\n",
      "5 is prime\n",
      "7 is prime\n",
      "11 is prime\n",
      "13 is prime\n",
      "17 is prime\n",
      "19 is prime\n",
      "23 is prime\n",
      "29 is prime\n",
      "31 is prime\n",
      "37 is prime\n",
      "41 is prime\n",
      "43 is prime\n",
      "47 is prime\n",
      "53 is prime\n",
      "59 is prime\n",
      "61 is prime\n",
      "67 is prime\n",
      "71 is prime\n",
      "73 is prime\n",
      "79 is prime\n",
      "83 is prime\n",
      "89 is prime\n",
      "97 is prime\n"
     ]
    }
   ],
   "source": [
    "for number in range(2, 100):\n",
    "    foud_Factors = False\n",
    "    for factor in range(2, int(number**0.5)+1):\n",
    "        if number % factor == 0:\n",
    "            foud_Factors = True\n",
    "            break\n",
    "    if not foud_Factors:\n",
    "        print(f'{number} is prime')"
   ]
  },
  {
   "cell_type": "code",
   "execution_count": null,
   "metadata": {},
   "outputs": [],
   "source": []
  }
 ],
 "metadata": {
  "kernelspec": {
   "display_name": "Python 3",
   "language": "python",
   "name": "python3"
  },
  "language_info": {
   "codemirror_mode": {
    "name": "ipython",
    "version": 3
   },
   "file_extension": ".py",
   "mimetype": "text/x-python",
   "name": "python",
   "nbconvert_exporter": "python",
   "pygments_lexer": "ipython3",
   "version": "3.11.3"
  }
 },
 "nbformat": 4,
 "nbformat_minor": 2
}
